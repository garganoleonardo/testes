{
 "cells": [
  {
   "cell_type": "code",
   "execution_count": null,
   "metadata": {
    "collapsed": false
   },
   "outputs": [],
   "source": [
    "import requests\n",
    "from bs4 import BeautifulSoup\n",
    "from time import sleep \n",
    "from random import random\n",
    "\n",
    "\n",
    "import json\n",
    "import urllib.request\n",
    "base_url = 'http://www.portaldatransparencia.gov.br/'\n",
    "\n",
    "def read_table(table):\n",
    "    rows = table.findAll(\"tr\")\n",
    "    header = rows[0]\n",
    "    #print ('header')\n",
    "    cols = header.findAll('th')\n",
    "    #print ('# of cols' + str(len(cols)))\n",
    "\n",
    "    my_json = []\n",
    "    \n",
    "    #for col in cols:\n",
    "        #print (col.getText().strip())\n",
    "\n",
    "    for row in range(1,len(rows)):\n",
    "        my_dict = {}\n",
    "        \n",
    "        a = 'row ' + str(row)\n",
    "        cols = rows[row].findAll(\"td\", {\"class\":\"firstChild\"})\n",
    "        cols_valor = rows[row].findAll(\"td\", {\"class\":\"colunaValor\"})\n",
    "        for col in cols:\n",
    "            for col2 in cols_valor:\n",
    "                b = col2.getText().strip()\n",
    "            c = col.getText().strip()\n",
    "        \n",
    "        \n",
    "        my_dict['Linha'] = a\n",
    "        my_dict['Mes'] = b\n",
    "        my_dict['Valor'] = c\n",
    "        my_json.append(my_dict)\n",
    "    \n",
    "    return my_json\n",
    "   \n",
    "    \n",
    "    \n",
    "    \n",
    "def read_person(person_url):\n",
    "    #print (person_url)\n",
    "    person = urllib.request.urlopen(person_url)\n",
    "    person_soup = BeautifulSoup(person, \"lxml\")\n",
    "\n",
    "    tables = person_soup.findAll(\"table\")\n",
    "    g = read_table(tables[1])\n",
    "    #h = json.dumps(g, indent=4, sort_keys=True)\n",
    "    return g\n",
    "    \n",
    "    \n",
    "read_person('http://www.portaldatransparencia.gov.br/PortalTransparenciaPesquisaAcaoDetalhado.asp?Exercicio=2016&textoPesquisa=&textoPesquisaAcao=&codigoAcao=8442&codigoFuncao=08&siglaEstado=AC&codigoMunicipio=0643&codFavorecido=6296326&cpfcnpjnis=00016167611395')\n",
    "\n"
   ]
  },
  {
   "cell_type": "code",
   "execution_count": 90,
   "metadata": {
    "collapsed": false
   },
   "outputs": [
    {
     "name": "stdout",
     "output_type": "stream",
     "text": [
      "row 1\n",
      "row 2\n",
      "row 3\n",
      "row 4\n",
      "row 5\n",
      "row 6\n",
      "row 7\n",
      "row 8\n",
      "row 9\n",
      "row 10\n",
      "row 11\n",
      "row 12\n",
      "row 13\n",
      "row 14\n",
      "row 15\n"
     ]
    },
    {
     "data": {
      "text/plain": [
       "['{\"valor\": \"1.970,00\", \"nome\": \"ABIGAIL DAGMAR MACHADO\", \"nis\": \"161.67611.39-5\", \"valor_detalhes\": [[{\"Mes\": \"209,00\", \"Linha\": \"row 1\", \"Valor\": \"Outubro/2016\"}, {\"Mes\": \"209,00\", \"Linha\": \"row 2\", \"Valor\": \"Setembro/2016\"}, {\"Mes\": \"209,00\", \"Linha\": \"row 3\", \"Valor\": \"Agosto/2016\"}, {\"Mes\": \"209,00\", \"Linha\": \"row 4\", \"Valor\": \"Julho/2016\"}, {\"Mes\": \"189,00\", \"Linha\": \"row 5\", \"Valor\": \"Junho/2016\"}, {\"Mes\": \"189,00\", \"Linha\": \"row 6\", \"Valor\": \"Maio/2016\"}, {\"Mes\": \"189,00\", \"Linha\": \"row 7\", \"Valor\": \"Abril/2016\"}, {\"Mes\": \"189,00\", \"Linha\": \"row 8\", \"Valor\": \"Mar\\\\u00e7o/2016\"}, {\"Mes\": \"189,00\", \"Linha\": \"row 9\", \"Valor\": \"Fevereiro/2016\"}, {\"Mes\": \"189,00\", \"Linha\": \"row 10\", \"Valor\": \"Janeiro/2016\"}]]}',\n",
       " '{\"valor\": \"2.146,00\", \"nome\": \"ADACIA CARDOSO FIRME\", \"nis\": \"202.25359.58-2\", \"valor_detalhes\": [[{\"Mes\": \"229,00\", \"Linha\": \"row 1\", \"Valor\": \"Outubro/2016\"}, {\"Mes\": \"229,00\", \"Linha\": \"row 2\", \"Valor\": \"Setembro/2016\"}, {\"Mes\": \"229,00\", \"Linha\": \"row 3\", \"Valor\": \"Agosto/2016\"}, {\"Mes\": \"229,00\", \"Linha\": \"row 4\", \"Valor\": \"Julho/2016\"}, {\"Mes\": \"205,00\", \"Linha\": \"row 5\", \"Valor\": \"Junho/2016\"}, {\"Mes\": \"205,00\", \"Linha\": \"row 6\", \"Valor\": \"Maio/2016\"}, {\"Mes\": \"205,00\", \"Linha\": \"row 7\", \"Valor\": \"Abril/2016\"}, {\"Mes\": \"205,00\", \"Linha\": \"row 8\", \"Valor\": \"Mar\\\\u00e7o/2016\"}, {\"Mes\": \"205,00\", \"Linha\": \"row 9\", \"Valor\": \"Fevereiro/2016\"}, {\"Mes\": \"205,00\", \"Linha\": \"row 10\", \"Valor\": \"Janeiro/2016\"}]]}',\n",
       " '{\"valor\": \"1.270,00\", \"nome\": \"ADAIR FERREIRA\", \"nis\": \"106.79398.83-7\", \"valor_detalhes\": [[{\"Mes\": \"85,00\", \"Linha\": \"row 1\", \"Valor\": \"Outubro/2016\"}, {\"Mes\": \"85,00\", \"Linha\": \"row 2\", \"Valor\": \"Setembro/2016\"}, {\"Mes\": \"85,00\", \"Linha\": \"row 3\", \"Valor\": \"Agosto/2016\"}, {\"Mes\": \"85,00\", \"Linha\": \"row 4\", \"Valor\": \"Julho/2016\"}, {\"Mes\": \"155,00\", \"Linha\": \"row 5\", \"Valor\": \"Junho/2016\"}, {\"Mes\": \"155,00\", \"Linha\": \"row 6\", \"Valor\": \"Maio/2016\"}, {\"Mes\": \"155,00\", \"Linha\": \"row 7\", \"Valor\": \"Abril/2016\"}, {\"Mes\": \"155,00\", \"Linha\": \"row 8\", \"Valor\": \"Mar\\\\u00e7o/2016\"}, {\"Mes\": \"155,00\", \"Linha\": \"row 9\", \"Valor\": \"Fevereiro/2016\"}, {\"Mes\": \"155,00\", \"Linha\": \"row 10\", \"Valor\": \"Janeiro/2016\"}]]}',\n",
       " '{\"valor\": \"942,00\", \"nome\": \"ADALCICLEIA BARROS DE ARAUJO\", \"nis\": \"207.96469.75-4\", \"valor_detalhes\": [[{\"Mes\": \"157,00\", \"Linha\": \"row 1\", \"Valor\": \"Junho/2016\"}, {\"Mes\": \"157,00\", \"Linha\": \"row 2\", \"Valor\": \"Maio/2016\"}, {\"Mes\": \"157,00\", \"Linha\": \"row 3\", \"Valor\": \"Abril/2016\"}, {\"Mes\": \"157,00\", \"Linha\": \"row 4\", \"Valor\": \"Mar\\\\u00e7o/2016\"}, {\"Mes\": \"157,00\", \"Linha\": \"row 5\", \"Valor\": \"Fevereiro/2016\"}, {\"Mes\": \"157,00\", \"Linha\": \"row 6\", \"Valor\": \"Janeiro/2016\"}]]}',\n",
       " '{\"valor\": \"1.804,00\", \"nome\": \"ADALCILEIA BARROS DE ARAUJO\", \"nis\": \"212.21461.24-0\", \"valor_detalhes\": [[{\"Mes\": \"241,00\", \"Linha\": \"row 1\", \"Valor\": \"Outubro/2016\"}, {\"Mes\": \"241,00\", \"Linha\": \"row 2\", \"Valor\": \"Setembro/2016\"}, {\"Mes\": \"241,00\", \"Linha\": \"row 3\", \"Valor\": \"Agosto/2016\"}, {\"Mes\": \"241,00\", \"Linha\": \"row 4\", \"Valor\": \"Julho/2016\"}, {\"Mes\": \"140,00\", \"Linha\": \"row 5\", \"Valor\": \"Junho/2016\"}, {\"Mes\": \"140,00\", \"Linha\": \"row 6\", \"Valor\": \"Maio/2016\"}, {\"Mes\": \"140,00\", \"Linha\": \"row 7\", \"Valor\": \"Abril/2016\"}, {\"Mes\": \"140,00\", \"Linha\": \"row 8\", \"Valor\": \"Mar\\\\u00e7o/2016\"}, {\"Mes\": \"140,00\", \"Linha\": \"row 9\", \"Valor\": \"Fevereiro/2016\"}, {\"Mes\": \"140,00\", \"Linha\": \"row 10\", \"Valor\": \"Janeiro/2016\"}]]}',\n",
       " '{\"valor\": \"1.996,00\", \"nome\": \"ADALGIZA NOGUEIRA DOS SANTOS\", \"nis\": \"161.20063.85-5\", \"valor_detalhes\": [[{\"Mes\": \"257,00\", \"Linha\": \"row 1\", \"Valor\": \"Outubro/2016\"}, {\"Mes\": \"257,00\", \"Linha\": \"row 2\", \"Valor\": \"Setembro/2016\"}, {\"Mes\": \"257,00\", \"Linha\": \"row 3\", \"Valor\": \"Agosto/2016\"}, {\"Mes\": \"257,00\", \"Linha\": \"row 4\", \"Valor\": \"Julho/2016\"}, {\"Mes\": \"233,00\", \"Linha\": \"row 5\", \"Valor\": \"Junho/2016\"}, {\"Mes\": \"147,00\", \"Linha\": \"row 6\", \"Valor\": \"Maio/2016\"}, {\"Mes\": \"147,00\", \"Linha\": \"row 7\", \"Valor\": \"Abril/2016\"}, {\"Mes\": \"147,00\", \"Linha\": \"row 8\", \"Valor\": \"Mar\\\\u00e7o/2016\"}, {\"Mes\": \"147,00\", \"Linha\": \"row 9\", \"Valor\": \"Fevereiro/2016\"}, {\"Mes\": \"147,00\", \"Linha\": \"row 10\", \"Valor\": \"Janeiro/2016\"}]]}',\n",
       " '{\"valor\": \"1.272,00\", \"nome\": \"ADAO ANTONIO DA SILVA\", \"nis\": \"237.21371.72-7\", \"valor_detalhes\": [[{\"Mes\": \"171,00\", \"Linha\": \"row 1\", \"Valor\": \"Agosto/2016\"}, {\"Mes\": \"171,00\", \"Linha\": \"row 2\", \"Valor\": \"Julho/2016\"}, {\"Mes\": \"155,00\", \"Linha\": \"row 3\", \"Valor\": \"Junho/2016\"}, {\"Mes\": \"155,00\", \"Linha\": \"row 4\", \"Valor\": \"Maio/2016\"}, {\"Mes\": \"155,00\", \"Linha\": \"row 5\", \"Valor\": \"Abril/2016\"}, {\"Mes\": \"155,00\", \"Linha\": \"row 6\", \"Valor\": \"Mar\\\\u00e7o/2016\"}, {\"Mes\": \"155,00\", \"Linha\": \"row 7\", \"Valor\": \"Fevereiro/2016\"}, {\"Mes\": \"155,00\", \"Linha\": \"row 8\", \"Valor\": \"Janeiro/2016\"}]]}',\n",
       " '{\"valor\": \"2.298,00\", \"nome\": \"ADEIDE RODRIGUES DAMASCENO\", \"nis\": \"212.08225.41-5\", \"valor_detalhes\": [[{\"Mes\": \"342,00\", \"Linha\": \"row 1\", \"Valor\": \"Outubro/2016\"}, {\"Mes\": \"342,00\", \"Linha\": \"row 2\", \"Valor\": \"Setembro/2016\"}, {\"Mes\": \"342,00\", \"Linha\": \"row 3\", \"Valor\": \"Agosto/2016\"}, {\"Mes\": \"342,00\", \"Linha\": \"row 4\", \"Valor\": \"Julho/2016\"}, {\"Mes\": \"310,00\", \"Linha\": \"row 5\", \"Valor\": \"Junho/2016\"}, {\"Mes\": \"310,00\", \"Linha\": \"row 6\", \"Valor\": \"Maio/2016\"}, {\"Mes\": \"310,00\", \"Linha\": \"row 7\", \"Valor\": \"Abril/2016\"}]]}',\n",
       " '{\"valor\": \"1.272,00\", \"nome\": \"ADELCILENE SOARES DA COSTA\", \"nis\": \"236.84077.49-2\", \"valor_detalhes\": [[{\"Mes\": \"171,00\", \"Linha\": \"row 1\", \"Valor\": \"Agosto/2016\"}, {\"Mes\": \"171,00\", \"Linha\": \"row 2\", \"Valor\": \"Julho/2016\"}, {\"Mes\": \"155,00\", \"Linha\": \"row 3\", \"Valor\": \"Junho/2016\"}, {\"Mes\": \"155,00\", \"Linha\": \"row 4\", \"Valor\": \"Maio/2016\"}, {\"Mes\": \"155,00\", \"Linha\": \"row 5\", \"Valor\": \"Abril/2016\"}, {\"Mes\": \"155,00\", \"Linha\": \"row 6\", \"Valor\": \"Mar\\\\u00e7o/2016\"}, {\"Mes\": \"155,00\", \"Linha\": \"row 7\", \"Valor\": \"Fevereiro/2016\"}, {\"Mes\": \"155,00\", \"Linha\": \"row 8\", \"Valor\": \"Janeiro/2016\"}]]}',\n",
       " '{\"valor\": \"2.858,00\", \"nome\": \"ADELIA DA COSTA PASSOS\", \"nis\": \"212.73189.34-7\", \"valor_detalhes\": [[{\"Mes\": \"305,00\", \"Linha\": \"row 1\", \"Valor\": \"Outubro/2016\"}, {\"Mes\": \"305,00\", \"Linha\": \"row 2\", \"Valor\": \"Setembro/2016\"}, {\"Mes\": \"305,00\", \"Linha\": \"row 3\", \"Valor\": \"Agosto/2016\"}, {\"Mes\": \"305,00\", \"Linha\": \"row 4\", \"Valor\": \"Julho/2016\"}, {\"Mes\": \"273,00\", \"Linha\": \"row 5\", \"Valor\": \"Junho/2016\"}, {\"Mes\": \"273,00\", \"Linha\": \"row 6\", \"Valor\": \"Maio/2016\"}, {\"Mes\": \"273,00\", \"Linha\": \"row 7\", \"Valor\": \"Abril/2016\"}, {\"Mes\": \"273,00\", \"Linha\": \"row 8\", \"Valor\": \"Mar\\\\u00e7o/2016\"}, {\"Mes\": \"273,00\", \"Linha\": \"row 9\", \"Valor\": \"Fevereiro/2016\"}, {\"Mes\": \"273,00\", \"Linha\": \"row 10\", \"Valor\": \"Janeiro/2016\"}]]}',\n",
       " '{\"valor\": \"899,00\", \"nome\": \"ADELIANE BRITO SANTIAGO\", \"nis\": \"190.33685.00-3\", \"valor_detalhes\": [[{\"Mes\": \"124,00\", \"Linha\": \"row 1\", \"Valor\": \"Agosto/2016\"}, {\"Mes\": \"124,00\", \"Linha\": \"row 2\", \"Valor\": \"Julho/2016\"}, {\"Mes\": \"112,00\", \"Linha\": \"row 3\", \"Valor\": \"Junho/2016\"}, {\"Mes\": \"112,00\", \"Linha\": \"row 4\", \"Valor\": \"Maio/2016\"}, {\"Mes\": \"112,00\", \"Linha\": \"row 5\", \"Valor\": \"Abril/2016\"}, {\"Mes\": \"105,00\", \"Linha\": \"row 6\", \"Valor\": \"Mar\\\\u00e7o/2016\"}, {\"Mes\": \"105,00\", \"Linha\": \"row 7\", \"Valor\": \"Fevereiro/2016\"}, {\"Mes\": \"105,00\", \"Linha\": \"row 8\", \"Valor\": \"Janeiro/2016\"}]]}',\n",
       " '{\"valor\": \"5.634,00\", \"nome\": \"ADELINA XUITES JACOB\", \"nis\": \"160.36929.95-2\", \"valor_detalhes\": [[{\"Mes\": \"597,00\", \"Linha\": \"row 1\", \"Valor\": \"Outubro/2016\"}, {\"Mes\": \"597,00\", \"Linha\": \"row 2\", \"Valor\": \"Setembro/2016\"}, {\"Mes\": \"597,00\", \"Linha\": \"row 3\", \"Valor\": \"Agosto/2016\"}, {\"Mes\": \"597,00\", \"Linha\": \"row 4\", \"Valor\": \"Julho/2016\"}, {\"Mes\": \"541,00\", \"Linha\": \"row 5\", \"Valor\": \"Junho/2016\"}, {\"Mes\": \"541,00\", \"Linha\": \"row 6\", \"Valor\": \"Maio/2016\"}, {\"Mes\": \"541,00\", \"Linha\": \"row 7\", \"Valor\": \"Abril/2016\"}, {\"Mes\": \"541,00\", \"Linha\": \"row 8\", \"Valor\": \"Mar\\\\u00e7o/2016\"}, {\"Mes\": \"541,00\", \"Linha\": \"row 9\", \"Valor\": \"Fevereiro/2016\"}, {\"Mes\": \"541,00\", \"Linha\": \"row 10\", \"Valor\": \"Janeiro/2016\"}]]}',\n",
       " '{\"valor\": \"2.513,00\", \"nome\": \"ADENILDA TAVARES DA SILVA\", \"nis\": \"205.00011.77-4\", \"valor_detalhes\": [[{\"Mes\": \"317,00\", \"Linha\": \"row 1\", \"Valor\": \"Outubro/2016\"}, {\"Mes\": \"318,00\", \"Linha\": \"row 2\", \"Valor\": \"Setembro/2016\"}, {\"Mes\": \"318,00\", \"Linha\": \"row 3\", \"Valor\": \"Agosto/2016\"}, {\"Mes\": \"318,00\", \"Linha\": \"row 4\", \"Valor\": \"Julho/2016\"}, {\"Mes\": \"286,00\", \"Linha\": \"row 5\", \"Valor\": \"Junho/2016\"}, {\"Mes\": \"286,00\", \"Linha\": \"row 6\", \"Valor\": \"Maio/2016\"}, {\"Mes\": \"286,00\", \"Linha\": \"row 7\", \"Valor\": \"Abril/2016\"}, {\"Mes\": \"128,00\", \"Linha\": \"row 8\", \"Valor\": \"Mar\\\\u00e7o/2016\"}, {\"Mes\": \"128,00\", \"Linha\": \"row 9\", \"Valor\": \"Fevereiro/2016\"}, {\"Mes\": \"128,00\", \"Linha\": \"row 10\", \"Valor\": \"Janeiro/2016\"}]]}',\n",
       " '{\"valor\": \"296,00\", \"nome\": \"ADENILZA MACHADO PINHEIRO\", \"nis\": \"203.26549.86-7\", \"valor_detalhes\": [[{\"Mes\": \"148,00\", \"Linha\": \"row 1\", \"Valor\": \"Outubro/2016\"}, {\"Mes\": \"148,00\", \"Linha\": \"row 2\", \"Valor\": \"Setembro/2016\"}]]}',\n",
       " '{\"valor\": \"1.796,00\", \"nome\": \"ADEUDILENE MARIA PAULA DE OLIVEIRA\", \"nis\": \"206.66423.15-0\", \"valor_detalhes\": [[{\"Mes\": \"194,00\", \"Linha\": \"row 1\", \"Valor\": \"Outubro/2016\"}, {\"Mes\": \"194,00\", \"Linha\": \"row 2\", \"Valor\": \"Setembro/2016\"}, {\"Mes\": \"194,00\", \"Linha\": \"row 3\", \"Valor\": \"Agosto/2016\"}, {\"Mes\": \"194,00\", \"Linha\": \"row 4\", \"Valor\": \"Julho/2016\"}, {\"Mes\": \"170,00\", \"Linha\": \"row 5\", \"Valor\": \"Junho/2016\"}, {\"Mes\": \"170,00\", \"Linha\": \"row 6\", \"Valor\": \"Maio/2016\"}, {\"Mes\": \"170,00\", \"Linha\": \"row 7\", \"Valor\": \"Abril/2016\"}, {\"Mes\": \"170,00\", \"Linha\": \"row 8\", \"Valor\": \"Mar\\\\u00e7o/2016\"}, {\"Mes\": \"170,00\", \"Linha\": \"row 9\", \"Valor\": \"Fevereiro/2016\"}, {\"Mes\": \"170,00\", \"Linha\": \"row 10\", \"Valor\": \"Janeiro/2016\"}]]}']"
      ]
     },
     "execution_count": 90,
     "metadata": {},
     "output_type": "execute_result"
    }
   ],
   "source": [
    "import urllib.request\n",
    "\n",
    "def read_city_page(city_page_url):\n",
    "    #print (city_page_url)\n",
    "    city_page = urllib.request.urlopen(city_page_url)\n",
    "    city_page_soup = BeautifulSoup(city_page, \"lxml\")\n",
    "\n",
    "    tables = city_page_soup.findAll(\"table\")\n",
    "    rows = tables[1].findAll(\"tr\")\n",
    "    header = rows[0]\n",
    "    #print ('header')\n",
    "    lista = []\n",
    "    cols = header.findAll('th')\n",
    "    for col in cols:\n",
    "        linhas = {}\n",
    "        #print (col.getText())\n",
    "\n",
    "    for row in range(1,len(rows)):\n",
    "        print ('row ' + str(row))\n",
    "        cols = rows[row].findAll('td')\n",
    "        cols_nis = rows[row].findAll(\"td\", {\"class\":\"firstChild\"})\n",
    "        for col in cols:\n",
    "            #print (col)\n",
    "            for col2 in cols_nis:\n",
    "                c = col2.getText().strip()\n",
    "            b =  col.getText().strip()\n",
    "            linhas['nis'] = c\n",
    "            a = col.find('a')\n",
    "            \n",
    "            #print (teste)\n",
    "            if a is not None:\n",
    "                person_url = base_url + a.get('href')\n",
    "                #print (person_url)\n",
    "                js = read_person(person_url)\n",
    "                linhas ['valor_detalhes'] = []\n",
    "                linhas ['valor_detalhes'].append(js)\n",
    "                linhas['nome'] = b\n",
    "           \n",
    "           \n",
    "            linhas['valor'] = b\n",
    "        \n",
    "            #h = json.dumps(linhas, indent=1, sort_keys=True)\n",
    "        lista.append(json.dumps(linhas))\n",
    "    return lista\n",
    "            \n",
    "\n",
    "                \n",
    "read_city_page('http://www.portaldatransparencia.gov.br/PortalTransparenciaPesquisaAcaoFavorecido.asp?Exercicio=2016&textoPesquisa=&textoPesquisaAcao=&codigoAcao=8442&codigoFuncao=08&siglaEstado=AC&codigoMunicipio=0643&Pagina=1')"
   ]
  },
  {
   "cell_type": "code",
   "execution_count": null,
   "metadata": {
    "collapsed": true
   },
   "outputs": [],
   "source": []
  },
  {
   "cell_type": "code",
   "execution_count": null,
   "metadata": {
    "collapsed": false
   },
   "outputs": [
    {
     "name": "stdout",
     "output_type": "stream",
     "text": [
      "http://www.portaldatransparencia.gov.br/PortalTransparenciaPesquisaAcaoFavorecido.asp?Exercicio=2016&textoPesquisa=&textoPesquisaAcao=&codigoAcao=8442&codigoFuncao=08&siglaEstado=AC&codigoMunicipio=0643\n",
      "Página 1/139\n",
      "139\n",
      "\n",
      "PAGINA 1\n",
      "row 1\n",
      "row 2\n",
      "row 3\n",
      "row 4\n",
      "row 5\n"
     ]
    }
   ],
   "source": [
    "\n",
    "\n",
    "def read_city(city_url):\n",
    "    print (city_url)\n",
    "    b = []\n",
    "    c = []\n",
    "    d = {}\n",
    "    city_page = urllib.request.urlopen(city_url)\n",
    "    city_page_soup = BeautifulSoup(city_page, \"lxml\")\n",
    "    city_pagination = city_page_soup.find(id='paginacao').p.getText()\n",
    "    print(city_pagination)\n",
    "    city_pages = str.split(city_pagination, '/')[1]\n",
    "    print (city_pages)\n",
    "    for city_page in range(1,int(city_pages)+1):\n",
    "        city_page_url = city_url + '&Pagina=' + str(city_page)\n",
    "        print ('\\nPAGINA ' + str(city_page))\n",
    "        a = read_city_page(city_page_url)\n",
    "        d['pagina '+ str(city_page)] = a\n",
    "        #sleep(1+random())\n",
    "       \n",
    "        #d[\"total_de_paginas\"] = city_page\n",
    "        with open('teste_acrelandia.json', 'w') as arquivo:\n",
    "            json.dump(d, arquivo, indent=4, sort_keys=True)\n",
    "\n",
    "        \n",
    "\n",
    "read_city('http://www.portaldatransparencia.gov.br/PortalTransparenciaPesquisaAcaoFavorecido.asp?Exercicio=2016&textoPesquisa=&textoPesquisaAcao=&codigoAcao=8442&codigoFuncao=08&siglaEstado=AC&codigoMunicipio=0643')"
   ]
  },
  {
   "cell_type": "code",
   "execution_count": null,
   "metadata": {
    "collapsed": false
   },
   "outputs": [],
   "source": []
  },
  {
   "cell_type": "code",
   "execution_count": null,
   "metadata": {
    "collapsed": true
   },
   "outputs": [],
   "source": []
  }
 ],
 "metadata": {
  "anaconda-cloud": {},
  "kernelspec": {
   "display_name": "Python [conda root]",
   "language": "python",
   "name": "conda-root-py"
  },
  "language_info": {
   "codemirror_mode": {
    "name": "ipython",
    "version": 3
   },
   "file_extension": ".py",
   "mimetype": "text/x-python",
   "name": "python",
   "nbconvert_exporter": "python",
   "pygments_lexer": "ipython3",
   "version": "3.5.2"
  }
 },
 "nbformat": 4,
 "nbformat_minor": 1
}
